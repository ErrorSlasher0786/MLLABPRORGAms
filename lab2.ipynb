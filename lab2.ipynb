{
 "cells": [
  {
   "cell_type": "code",
   "execution_count": 1,
   "metadata": {},
   "outputs": [],
   "source": [
    "import numpy as np\n",
    "import pandas as pd"
   ]
  },
  {
   "cell_type": "code",
   "execution_count": 2,
   "metadata": {},
   "outputs": [
    {
     "name": "stdout",
     "output_type": "stream",
     "text": [
      "      Sky Airtemp Humidity    Wind Water Forecast WaterSport\n",
      "0   Sunny    Warm   Normal  Strong  Warm     Same        Yes\n",
      "1   Sunny    Warm     High  Strong  Warm     Same        Yes\n",
      "2  Cloudy    Cold     High  Strong  Warm   Change         No\n",
      "3   Sunny    Warm     High  Strong  Cool   Change        Yes\n"
     ]
    }
   ],
   "source": [
    "data = pd.DataFrame(data=pd.read_csv('lab2.csv'))\n",
    "print(data)"
   ]
  },
  {
   "cell_type": "code",
   "execution_count": 3,
   "metadata": {},
   "outputs": [
    {
     "name": "stdout",
     "output_type": "stream",
     "text": [
      "[['Sunny' 'Warm' 'Normal' 'Strong' 'Warm' 'Same']\n",
      " ['Sunny' 'Warm' 'High' 'Strong' 'Warm' 'Same']\n",
      " ['Cloudy' 'Cold' 'High' 'Strong' 'Warm' 'Change']\n",
      " ['Sunny' 'Warm' 'High' 'Strong' 'Cool' 'Change']]\n"
     ]
    }
   ],
   "source": [
    "concepts = np.array(data.iloc[:,0:-1])\n",
    "print(concepts)"
   ]
  },
  {
   "cell_type": "code",
   "execution_count": 5,
   "metadata": {},
   "outputs": [
    {
     "name": "stdout",
     "output_type": "stream",
     "text": [
      "['Yes' 'Yes' 'No' 'Yes']\n"
     ]
    }
   ],
   "source": [
    "target = np.array(data.iloc[:,-1])\n",
    "print(target)"
   ]
  },
  {
   "cell_type": "code",
   "execution_count": 6,
   "metadata": {},
   "outputs": [
    {
     "name": "stdout",
     "output_type": "stream",
     "text": [
      "initialization of specific_h and general_h\n",
      "['Sunny' 'Warm' 'Normal' 'Strong' 'Warm' 'Same']\n",
      "[['?', '?', '?', '?', '?', '?'], ['?', '?', '?', '?', '?', '?'], ['?', '?', '?', '?', '?', '?'], ['?', '?', '?', '?', '?', '?'], ['?', '?', '?', '?', '?', '?'], ['?', '?', '?', '?', '?', '?']]\n",
      " steps of Candidate Elimination Algorithm 1\n",
      "Specific_h  1 \n",
      " \n",
      "['Sunny' 'Warm' 'Normal' 'Strong' 'Warm' 'Same']\n",
      "general_h  1 \n",
      " \n",
      "[['?', '?', '?', '?', '?', '?'], ['?', '?', '?', '?', '?', '?'], ['?', '?', '?', '?', '?', '?'], ['?', '?', '?', '?', '?', '?'], ['?', '?', '?', '?', '?', '?'], ['?', '?', '?', '?', '?', '?']]\n",
      " steps of Candidate Elimination Algorithm 2\n",
      "Specific_h  2 \n",
      " \n",
      "['Sunny' 'Warm' '?' 'Strong' 'Warm' 'Same']\n",
      "general_h  2 \n",
      " \n",
      "[['?', '?', '?', '?', '?', '?'], ['?', '?', '?', '?', '?', '?'], ['?', '?', '?', '?', '?', '?'], ['?', '?', '?', '?', '?', '?'], ['?', '?', '?', '?', '?', '?'], ['?', '?', '?', '?', '?', '?']]\n",
      " steps of Candidate Elimination Algorithm 3\n",
      "Specific_h  3 \n",
      " \n",
      "['Sunny' 'Warm' '?' 'Strong' 'Warm' 'Same']\n",
      "general_h  3 \n",
      " \n",
      "[['Sunny', '?', '?', '?', '?', '?'], ['?', 'Warm', '?', '?', '?', '?'], ['?', '?', '?', '?', '?', '?'], ['?', '?', '?', '?', '?', '?'], ['?', '?', '?', '?', '?', '?'], ['?', '?', '?', '?', '?', 'Same']]\n",
      " steps of Candidate Elimination Algorithm 4\n",
      "Specific_h  4 \n",
      " \n",
      "['Sunny' 'Warm' '?' 'Strong' '?' '?']\n",
      "general_h  4 \n",
      " \n",
      "[['Sunny', '?', '?', '?', '?', '?'], ['?', 'Warm', '?', '?', '?', '?'], ['?', '?', '?', '?', '?', '?'], ['?', '?', '?', '?', '?', '?'], ['?', '?', '?', '?', '?', '?'], ['?', '?', '?', '?', '?', '?']]\n",
      "Final Specific_h:\n",
      "['Sunny' 'Warm' '?' 'Strong' '?' '?']\n",
      "Final General_h:\n",
      "[['Sunny', '?', '?', '?', '?', '?'], ['?', 'Warm', '?', '?', '?', '?']]\n"
     ]
    }
   ],
   "source": [
    "def learn(concepts, target):\n",
    "    specific_h = concepts[0].copy()\n",
    "    print(\"initialization of specific_h and general_h\")\n",
    "    print(specific_h)\n",
    "\n",
    "    general_h = [[\"?\" for i in range(len(specific_h))] for i in range(len(specific_h))]\n",
    "    print(general_h)\n",
    "    # The learning iterations\n",
    "    for i, h in enumerate(concepts):\n",
    "\n",
    "        # Checking if the hypothesis has a positive target\n",
    "        if target[i] == \"Yes\":\n",
    "            for x in range(len(specific_h)):\n",
    "\n",
    "                # Change values in S & G only if values change\n",
    "                if h[x] != specific_h[x]:\n",
    "                    specific_h[x] = '?'\n",
    "                    general_h[x][x] = '?'\n",
    "\n",
    "        # Checking if the hypothesis has a positive target\n",
    "        if target[i] == \"No\":\n",
    "            for x in range(len(specific_h)):\n",
    "\n",
    "                # For negative hyposthesis change values only  in G\n",
    "                if h[x] != specific_h[x]:\n",
    "                    general_h[x][x] = specific_h[x]\n",
    "                else:\n",
    "                    general_h[x][x] = '?'\n",
    "        print(\" steps of Candidate Elimination Algorithm\",i+1)\n",
    "        print(\"Specific_h \",i+1,\"\\n \")\n",
    "        print(specific_h)\n",
    "        print(\"general_h \", i+1, \"\\n \")\n",
    "        print(general_h)\n",
    "    # find indices where we have empty rows, meaning those that are unchanged\n",
    "    indices = [i for i, val in enumerate(general_h) if val == ['?', '?', '?', '?', '?', '?']]\n",
    "    for i in indices:\n",
    "        # remove those rows from general_h\n",
    "        general_h.remove(['?', '?', '?', '?', '?', '?'])\n",
    "\n",
    "    # Return final values\n",
    "    return specific_h, general_h\n",
    "s_final, g_final = learn(concepts, target)\n",
    "print(\"Final Specific_h:\", s_final, sep=\"\\n\")\n",
    "print(\"Final General_h:\", g_final, sep=\"\\n\")\n"
   ]
  },
  {
   "cell_type": "code",
   "execution_count": null,
   "metadata": {},
   "outputs": [],
   "source": []
  }
 ],
 "metadata": {
  "kernelspec": {
   "display_name": "Python 3",
   "language": "python",
   "name": "python3"
  },
  "language_info": {
   "codemirror_mode": {
    "name": "ipython",
    "version": 3
   },
   "file_extension": ".py",
   "mimetype": "text/x-python",
   "name": "python",
   "nbconvert_exporter": "python",
   "pygments_lexer": "ipython3",
   "version": "3.8.3"
  }
 },
 "nbformat": 4,
 "nbformat_minor": 4
}
