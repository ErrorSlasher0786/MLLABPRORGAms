{
 "cells": [
  {
   "cell_type": "code",
   "execution_count": 1,
   "metadata": {},
   "outputs": [],
   "source": [
    "import pandas as pd\n",
    "from pandas import DataFrame "
   ]
  },
  {
   "cell_type": "code",
   "execution_count": 2,
   "metadata": {},
   "outputs": [
    {
     "name": "stdout",
     "output_type": "stream",
     "text": [
      "   A  B  Y\n",
      "0  0  0  0\n",
      "1  0  1  0\n",
      "2  1  0  1\n",
      "3  1  1  0\n"
     ]
    }
   ],
   "source": [
    "df_tennis = pd.read_csv('exam.csv')\n",
    "print(df_tennis)"
   ]
  },
  {
   "cell_type": "code",
   "execution_count": 3,
   "metadata": {},
   "outputs": [],
   "source": [
    "def entropy(probs):  \n",
    "    import math\n",
    "    return sum( [-prob*math.log(prob, 2) for prob in probs] )\n"
   ]
  },
  {
   "cell_type": "code",
   "execution_count": 4,
   "metadata": {},
   "outputs": [],
   "source": [
    "def entropy_of_list(a_list):  \n",
    "    from collections import Counter\n",
    "    cnt = Counter(x for x in a_list)   # Counter calculates the propotion of class\n",
    "    num_instances = len(a_list)*1.0   # = 14\n",
    "    probs = [x / num_instances for x in cnt.values()]  # x means no of YES/NO\n",
    "    return entropy(probs) # Call Entropy :\n",
    "total_entropy = entropy_of_list(df_tennis['Y'])\n"
   ]
  },
  {
   "cell_type": "code",
   "execution_count": 5,
   "metadata": {},
   "outputs": [],
   "source": [
    "def information_gain(df, split_attribute_name, target_attribute_name, trace=0):\n",
    "    df_split = df.groupby(split_attribute_name)\n",
    "    nobs = len(df.index) * 1.0\n",
    "    print(\"split\",split_attribute_name)\n",
    "    print(\"target\", target_attribute_name)\n",
    "    print(\"novs\",nobs)\n",
    "    print(\"df_split\",df_split)\n",
    "    df_agg_ent = df_split.agg({target_attribute_name : [entropy_of_list, lambda x: len(x)/nobs] })[target_attribute_name]\n",
    "    df_agg_ent.columns = ['Entropy', 'PropObservations']\n",
    "    print(df_agg_ent)\n",
    "    new_entropy = sum( df_agg_ent['Entropy'] * df_agg_ent['PropObservations'] )\n",
    "    old_entropy = entropy_of_list(df[target_attribute_name])\n",
    "    return old_entropy - new_entropy\n"
   ]
  },
  {
   "cell_type": "code",
   "execution_count": 6,
   "metadata": {},
   "outputs": [],
   "source": [
    "def id3(df, target_attribute_name, attribute_names, default_class=None):\n",
    "    from collections import Counter\n",
    "    cnt = Counter(x for x in df[target_attribute_name])# class of YES /NO\n",
    "    if len(cnt) == 1:\n",
    "        return next(iter(cnt))  # next input data set, or raises StopIteration when EOF is hit.\n",
    "    elif df.empty or (not attribute_names):\n",
    "        return default_class  # Return None for Empty Data Set\n",
    "    else:\n",
    "        default_class = max(cnt.keys()) #No of YES and NO Class\n",
    "        gainz = [information_gain(df, attr, target_attribute_name) for attr in attribute_names] #\n",
    "        index_of_max = gainz.index(max(gainz)) # Index of Best Attribute\n",
    "        best_attr = attribute_names[index_of_max]\n",
    "        tree = {best_attr:{}} # Iniiate the tree with best attribute as a node \n",
    "        remaining_attribute_names = [i for i in attribute_names if i != best_attr]\n",
    "        for attr_val, data_subset in df.groupby(best_attr):\n",
    "            subtree = id3(data_subset,target_attribute_name, remaining_attribute_names,default_class)\n",
    "            tree[best_attr][attr_val] = subtree\n",
    "        return tree\n"
   ]
  },
  {
   "cell_type": "code",
   "execution_count": 7,
   "metadata": {},
   "outputs": [
    {
     "name": "stdout",
     "output_type": "stream",
     "text": [
      "split A\n",
      "target Y\n",
      "novs 4.0\n",
      "df_split <pandas.core.groupby.generic.DataFrameGroupBy object at 0x049567A8>\n",
      "   Entropy  PropObservations\n",
      "A                           \n",
      "0        0               0.5\n",
      "1        1               0.5\n",
      "split B\n",
      "target Y\n",
      "novs 4.0\n",
      "df_split <pandas.core.groupby.generic.DataFrameGroupBy object at 0x111CBF10>\n",
      "   Entropy  PropObservations\n",
      "B                           \n",
      "0        1               0.5\n",
      "1        0               0.5\n",
      "split B\n",
      "target Y\n",
      "novs 2.0\n",
      "df_split <pandas.core.groupby.generic.DataFrameGroupBy object at 0x04956448>\n",
      "   Entropy  PropObservations\n",
      "B                           \n",
      "0        0               0.5\n",
      "1        0               0.5\n",
      "\n",
      "\n",
      "The Resultant Decision Tree is :\n",
      "\n",
      "{'A': {0: 0, 1: {'B': {0: 1, 1: 0}}}}\n"
     ]
    }
   ],
   "source": [
    "attribute_names = list(df_tennis.columns)\n",
    "attribute_names.remove('Y') #Remove the class attribute \n",
    "# Run Algorithm:\n",
    "from pprint import pprint\n",
    "tree = id3(df_tennis,'Y',attribute_names)\n",
    "print(\"\\n\\nThe Resultant Decision Tree is :\\n\")\n",
    "pprint(tree)\n"
   ]
  },
  {
   "cell_type": "code",
   "execution_count": null,
   "metadata": {},
   "outputs": [],
   "source": []
  }
 ],
 "metadata": {
  "kernelspec": {
   "display_name": "Python 3",
   "language": "python",
   "name": "python3"
  },
  "language_info": {
   "codemirror_mode": {
    "name": "ipython",
    "version": 3
   },
   "file_extension": ".py",
   "mimetype": "text/x-python",
   "name": "python",
   "nbconvert_exporter": "python",
   "pygments_lexer": "ipython3",
   "version": "3.8.3"
  }
 },
 "nbformat": 4,
 "nbformat_minor": 4
}
